{
 "cells": [
  {
   "cell_type": "code",
   "execution_count": 1,
   "metadata": {
    "collapsed": true
   },
   "outputs": [],
   "source": [
    "import os\n",
    "import tensorflow as tf\n",
    "os.environ['TF_CPP_MIN_LOG_LEVEL']='2'\n",
    "import matplotlib.pyplot as plt\n",
    "import math\n",
    "from IPython.display import Image"
   ]
  },
  {
   "cell_type": "code",
   "execution_count": 2,
   "metadata": {},
   "outputs": [
    {
     "data": {
      "text/html": [
       "<img src=\"https://github.com/furkoch/Neural-Network/blob/master/1.jpg?raw=true\"/>"
      ],
      "text/plain": [
       "<IPython.core.display.Image object>"
      ]
     },
     "execution_count": 2,
     "metadata": {},
     "output_type": "execute_result"
    }
   ],
   "source": [
    "Image(url='https://github.com/furkoch/Neural-Network/blob/master/1.jpg?raw=true')\n"
   ]
  },
  {
   "cell_type": "code",
   "execution_count": 3,
   "metadata": {},
   "outputs": [
    {
     "data": {
      "text/html": [
       "<img src=\"https://github.com/furkoch/Neural-Network/blob/master/2.jpg?raw=true\"/>"
      ],
      "text/plain": [
       "<IPython.core.display.Image object>"
      ]
     },
     "execution_count": 3,
     "metadata": {},
     "output_type": "execute_result"
    }
   ],
   "source": [
    "Image(url='https://github.com/furkoch/Neural-Network/blob/master/2.jpg?raw=true')\n"
   ]
  },
  {
   "cell_type": "code",
   "execution_count": 4,
   "metadata": {},
   "outputs": [
    {
     "data": {
      "text/html": [
       "<img src=\"https://github.com/furkoch/Neural-Network/blob/master/3.jpg?raw=true\"/>"
      ],
      "text/plain": [
       "<IPython.core.display.Image object>"
      ]
     },
     "execution_count": 4,
     "metadata": {},
     "output_type": "execute_result"
    }
   ],
   "source": [
    "Image(url='https://github.com/furkoch/Neural-Network/blob/master/3.jpg?raw=true')"
   ]
  },
  {
   "cell_type": "code",
   "execution_count": 5,
   "metadata": {},
   "outputs": [
    {
     "data": {
      "text/html": [
       "<img src=\"https://github.com/furkoch/Neural-Network/blob/master/4.jpg?raw=true\"/>"
      ],
      "text/plain": [
       "<IPython.core.display.Image object>"
      ]
     },
     "execution_count": 5,
     "metadata": {},
     "output_type": "execute_result"
    }
   ],
   "source": [
    "Image(url='https://github.com/furkoch/Neural-Network/blob/master/4.jpg?raw=true')"
   ]
  },
  {
   "cell_type": "code",
   "execution_count": 6,
   "metadata": {},
   "outputs": [
    {
     "data": {
      "text/html": [
       "<img src=\"https://github.com/furkoch/Neural-Network/blob/master/5.jpg?raw=true\"/>"
      ],
      "text/plain": [
       "<IPython.core.display.Image object>"
      ]
     },
     "execution_count": 6,
     "metadata": {},
     "output_type": "execute_result"
    }
   ],
   "source": [
    "Image(url='https://github.com/furkoch/Neural-Network/blob/master/5.jpg?raw=true')"
   ]
  },
  {
   "cell_type": "code",
   "execution_count": 7,
   "metadata": {},
   "outputs": [
    {
     "data": {
      "text/html": [
       "<img src=\"https://github.com/furkoch/Neural-Network/blob/master/6.jpg?raw=true\"/>"
      ],
      "text/plain": [
       "<IPython.core.display.Image object>"
      ]
     },
     "execution_count": 7,
     "metadata": {},
     "output_type": "execute_result"
    }
   ],
   "source": [
    "Image(url='https://github.com/furkoch/Neural-Network/blob/master/6.jpg?raw=true')"
   ]
  },
  {
   "cell_type": "code",
   "execution_count": 8,
   "metadata": {},
   "outputs": [
    {
     "name": "stdout",
     "output_type": "stream",
     "text": [
      "[85.0, 83.209991, 81.440002, 79.689995, 77.960007, 76.25, 74.559998, 72.890007, 71.239998, 69.610001, 68.0, 66.409988, 64.840004, 63.289993, 61.760006, 60.25, 58.759991, 57.290001, 55.839996, 54.410007, 53.0, 51.610001, 50.240005, 48.889999, 47.559998, 46.25, 44.960003, 43.690002, 42.439995, 41.209999, 40.0, 38.810001, 37.639999, 36.489998, 35.359997, 34.25, 33.160004, 32.090004, 31.039999, 30.009998, 29.0, 28.010002, 27.040003, 26.089998, 25.16, 24.25, 23.360001, 22.490002, 21.639997, 20.809998, 20.0, 19.209999, 18.440001, 17.689999, 16.959999, 16.25, 15.56, 14.890001, 14.239998, 13.61, 13.0, 12.410001, 11.84, 11.290001, 10.759999, 10.25, 9.7600002, 9.289999, 8.8400002, 8.4099998, 8.0, 7.6100006, 7.2399998, 6.8900003, 6.5599995, 6.25, 5.96, 5.6900001, 5.4400001, 5.2099996, 5.0, 4.8099999, 4.6399999, 4.4899998, 4.3600001, 4.25, 4.1599998, 4.0900002, 4.04, 4.0100002, 4.0, 4.0100002, 4.04, 4.0900002, 4.1599998, 4.25, 4.3600001, 4.4899998, 4.6399999, 4.8099999, 5.0, 5.21, 5.4400001, 5.6900001, 5.96, 6.25, 6.5599999, 6.8899999, 7.2399998, 7.6099997, 8.0, 8.4099998, 8.8400002, 9.29, 9.7600002, 10.25, 10.76, 11.29, 11.84, 12.41, 13.0, 13.609999, 14.24, 14.889999, 15.56, 16.25, 16.959999, 17.690001, 18.439999, 19.210001, 20.0, 20.809999, 21.640001, 22.49, 23.360001, 24.25, 25.16, 26.09, 27.039999, 28.010002, 29.0, 30.009998, 31.039997, 32.090004, 33.16, 34.25, 35.360001, 36.489998, 37.639999, 38.810001, 40.0, 41.209999, 42.439995, 43.690002, 44.960003, 46.25, 47.559998, 48.889999, 50.240005, 51.610001, 53.0, 54.41, 55.839996, 57.290001, 58.760002, 60.25, 61.759998, 63.289993, 64.840004, 66.410004, 68.0, 69.610001, 71.239998, 72.889999, 74.560005, 76.25, 77.959999, 79.689995, 81.440002, 83.209999, 85.0, 86.810013, 88.639999, 90.489998, 92.359985, 94.25, 96.160004, 98.089996, 100.04, 102.00999, 104.0, 106.01001, 108.04, 110.09, 112.15999, 114.25, 116.36, 118.49, 120.64, 122.81, 125.0]\n",
      "[[-18.0], [-17.799999], [-17.6], [-17.4], [-17.200001], [-17.0], [-16.799999], [-16.6], [-16.4], [-16.200001], [-16.0], [-15.799999], [-15.6], [-15.4], [-15.200001], [-15.0], [-14.799999], [-14.6], [-14.4], [-14.200001], [-14.0], [-13.8], [-13.6], [-13.4], [-13.2], [-13.0], [-12.8], [-12.6], [-12.4], [-12.2], [-12.0], [-11.8], [-11.6], [-11.4], [-11.2], [-11.0], [-10.8], [-10.6], [-10.4], [-10.2], [-10.0], [-9.8000002], [-9.6000004], [-9.3999996], [-9.1999998], [-9.0], [-8.8000002], [-8.6000004], [-8.3999996], [-8.1999998], [-8.0], [-7.8000002], [-7.6000004], [-7.3999996], [-7.1999998], [-7.0], [-6.8000002], [-6.6000004], [-6.3999996], [-6.1999998], [-6.0], [-5.8000002], [-5.5999999], [-5.4000001], [-5.1999998], [-5.0], [-4.8000002], [-4.5999999], [-4.4000001], [-4.1999998], [-4.0], [-3.8000002], [-3.5999999], [-3.4000001], [-3.1999998], [-3.0], [-2.8000002], [-2.5999999], [-2.4000001], [-2.1999998], [-2.0], [-1.8], [-1.5999999], [-1.4000001], [-1.2], [-1.0], [-0.79999995], [-0.5999999], [-0.4000001], [-0.20000005], [0.0], [0.20000005], [0.39999998], [0.60000002], [0.79999995], [1.0], [1.2], [1.4], [1.6], [1.8], [2.0], [2.2], [2.4000001], [2.5999999], [2.8], [3.0], [3.2], [3.4000001], [3.5999999], [3.8], [4.0], [4.1999998], [4.4000001], [4.5999999], [4.8000002], [5.0], [5.1999998], [5.4000001], [5.5999999], [5.8000002], [6.0], [6.1999998], [6.4000001], [6.5999999], [6.8000002], [7.0], [7.1999998], [7.4000001], [7.5999999], [7.8000002], [8.0], [8.1999998], [8.3999996], [8.6000004], [8.8000002], [9.0], [9.1999998], [9.3999996], [9.6000004], [9.8000002], [10.0], [10.2], [10.4], [10.6], [10.8], [11.0], [11.2], [11.4], [11.6], [11.8], [12.0], [12.2], [12.4], [12.6], [12.8], [13.0], [13.2], [13.4], [13.6], [13.8], [14.0], [14.2], [14.4], [14.6], [14.8], [15.0], [15.2], [15.4], [15.6], [15.8], [16.0], [16.200001], [16.4], [16.6], [16.799999], [17.0], [17.200001], [17.4], [17.6], [17.799999], [18.0], [18.200001], [18.4], [18.6], [18.799999], [19.0], [19.200001], [19.4], [19.6], [19.799999], [20.0], [20.200001], [20.4], [20.6], [20.799999], [21.0], [21.200001], [21.4], [21.6], [21.799999], [22.0]]\n"
     ]
    },
    {
     "data": {
      "image/png": "[encoded data removed]",
      "text/plain": [
       "<matplotlib.figure.Figure at 0x7fd2dca6fda0>"
      ]
     },
     "metadata": {},
     "output_type": "display_data"
    }
   ],
   "source": [
    "# 1.1. A simple computational graph in Tensorflow \n",
    "def simple_comp_graph_tf():\n",
    "    x = tf.placeholder(tf.float32)\n",
    "    fx = tf.square(x) + 2 * x + 5\n",
    "    # tf.initialize_all_variables()\n",
    "    dfx = tf.gradients(fx, x)\n",
    "\n",
    "    with tf.Session() as sess:\n",
    "        k = -10\n",
    "        x_vals = []\n",
    "        dfx_vals = []\n",
    "        fx_vals = []\n",
    "        while k <= 10:\n",
    "            x_vals.append(k)\n",
    "            fx_vals.append(sess.run(fx, {x: k}))\n",
    "            dfx_vals.append(sess.run(dfx, {x: k}))\n",
    "            k += .1\n",
    "        print(fx_vals)\n",
    "        print(dfx_vals)\n",
    "        fig, axes = plt.subplots(1, 1)\n",
    "        axes.plot(x_vals, fx_vals, color='blue', ls='-', label='f(x)')\n",
    "        axes.plot(x_vals, dfx_vals, color='red', ls='-', label='df(x)')\n",
    "        axes.legend(loc='upper left')\n",
    "        plt.show()\n",
    "        \n",
    "simple_comp_graph_tf()"
   ]
  },
  {
   "cell_type": "code",
   "execution_count": 9,
   "metadata": {},
   "outputs": [],
   "source": [
    "# Tensorflow Questions:\n",
    "# 1. Placeholders are a way to define variables without actually defining the values to be passed to them when we create \n",
    "# a computational graph.\n",
    "# Variables are constructed with a type and an initial value and to initialize them we need to call a special operation: \n",
    "# init = tf.global_variables_initializer() ; sess.run(init). Variables are used to hold and update parameters.\n",
    "# 2. tf.Session.run(fetches, feed_dictionary, options, run_metadata) \n",
    "# Fetches is a single graph element. It can be list, tuple or dictionary. \n",
    "# Feed_dictionary is a dictionary and its elements are substituted into fetches within every session run. \n",
    "# Options enables us to specify options about the call. Run_metadata enables us to collect metadata about the execution.\n",
    "# tf.Session.run returns a single value if fetches is a single graph element; a list of values if fetches is a list; \n",
    "# or a dictionary with the same keys as fetches if that is a dictionary. The fundamental difference is that run \n",
    "# returns us the evaluated expression.\n"
   ]
  },
  {
   "cell_type": "code",
   "execution_count": 10,
   "metadata": {},
   "outputs": [
    {
     "data": {
      "image/png": "[encoded data removed]",
      "text/plain": [
       "<matplotlib.figure.Figure at 0x7fd2d80bb2b0>"
      ]
     },
     "metadata": {},
     "output_type": "display_data"
    }
   ],
   "source": [
    "# 2. A pure Python implementation (1 point)\n",
    "def python_method():\n",
    "    def fx(x):\n",
    "        return x * x + 2 * x + 5\n",
    "    def dfx(x):\n",
    "        return 2*x+2\n",
    "    k = -10\n",
    "    x_vals = []\n",
    "    fx_vals = []\n",
    "    dfx_vals = []\n",
    "\n",
    "    while k <= 10:\n",
    "        x_vals.append(k)\n",
    "        fx_vals.append(fx(k))\n",
    "        dfx_vals.append(dfx(k))\n",
    "        k += .1\n",
    "\n",
    "    fig, axes = plt.subplots(1, 1)\n",
    "    axes.plot(x_vals, fx_vals, color='blue', ls='-', label='f(x)')\n",
    "    axes.plot(x_vals, dfx_vals, color='red', ls='-', label='df(x)')\n",
    "    axes.legend(loc='upper left')\n",
    "    plt.show()\n",
    "python_method()"
   ]
  },
  {
   "cell_type": "code",
   "execution_count": 11,
   "metadata": {},
   "outputs": [
    {
     "name": "stdout",
     "output_type": "stream",
     "text": [
      "[0.88075793, 0.88075376, 0.88074923, 0.88074416, 0.8807385, 0.88073242, 0.88072556, 0.88071799, 0.88070959, 0.88070023, 0.88069004, 0.88067865, 0.88066614, 0.88065225, 0.88063687, 0.88061988, 0.88060111, 0.88058025, 0.88055718, 0.88053173, 0.88050354, 0.88047224, 0.88043773, 0.88039947, 0.88035715, 0.88031018, 0.88025826, 0.88020086, 0.88013715, 0.88006657, 0.87998837, 0.87990177, 0.8798058, 0.87969953, 0.87958175, 0.87945098, 0.87930614, 0.87914544, 0.87896711, 0.87876934, 0.87854981, 0.87830603, 0.87803531, 0.87773454, 0.87740028, 0.87702858, 0.87661511, 0.87615502, 0.87564272, 0.87507188, 0.87443548, 0.87372553, 0.87293285, 0.87204707, 0.87105638, 0.86994714, 0.86870384, 0.8673085, 0.8657406, 0.86397588, 0.86198652, 0.85973984, 0.85719752, 0.85431451, 0.85103685, 0.84730101, 0.84303045, 0.83813316, 0.8324976, 0.82598811, 0.81843871, 0.80964524, 0.79935586, 0.7872588, 0.77296865, 0.75600982, 0.73580045, 0.71164125, 0.68271679, 0.64812762, 0.60698068, 0.55857593, 0.50272423, 0.44018447, 0.37309027, 0.30507204, 0.24073523, 0.18447146, 0.13916895, 0.10564832, 0.083192728, 0.071014851, 0.071609743, 0.11051992, 0.46852183, 0.87370014, 0.88079697, 0.88079703, 0.88079703, 0.88079703, 0.88079703, 0.01798621, 0.01798621, 0.01798621, 0.01798621, 0.017986203, 0.017985251, 0.017965967, 0.017835762, 0.017385812, 0.016397202, 0.0148455, 0.012966297, 0.011091553, 0.0094551397, 0.008138801, 0.007123034, 0.0063497312, 0.0057583628, 0.0052992376, 0.0049354061, 0.0046405904, 0.004396488, 0.0041903919, 0.0040134694, 0.0038595046, 0.0037240591, 0.0036039029, 0.0034966329, 0.0034004045, 0.0033137845, 0.0032356081, 0.0031649168, 0.0031009128, 0.003042907, 0.0029902959, 0.0029425593, 0.0028992307, 0.0028598935, 0.0028241726, 0.0027917374, 0.0027622813, 0.0027355303, 0.0027112362, 0.0026891746, 0.0026691381, 0.0026509468, 0.0026344277, 0.0026194295, 0.0026058138, 0.0025934526, 0.0025822301, 0.0025720459, 0.0025627997, 0.0025544078, 0.0025467931, 0.0025398822, 0.0025336142, 0.0025279243, 0.0025227631, 0.0025180804, 0.0025138333, 0.0025099805, 0.0025064859, 0.0025033178, 0.002500443, 0.002497836, 0.0024954739, 0.0024933312, 0.0024913873, 0.0024896269, 0.0024880311, 0.0024865828, 0.0024852727, 0.0024840827, 0.0024830054, 0.0024820289, 0.0024811435, 0.0024803423, 0.0024796133, 0.0024789541, 0.0024783586, 0.0024778175, 0.0024773285, 0.0024768831, 0.0024764827, 0.0024761199, 0.002475789, 0.0024754899, 0.0024752202, 0.0024749741, 0.0024747504, 0.0024745504, 0.002474369, 0.0024742032, 0.0024740538, 0.0024739185, 0.002473796, 0.0024736843, 0.0024735841, 0.0024734936]\n",
      "[[-3.9345756e-05], [-4.3509834e-05], [-4.8117399e-05], [-5.3230291e-05], [-5.8864734e-05], [-6.5115863e-05], [-7.2009301e-05], [-7.9650534e-05], [-8.8101784e-05], [-9.7481396e-05], [-0.00010781608], [-0.00011928996], [-0.00013197196], [-0.000145992], [-0.00016152744], [-0.00017873253], [-0.00019776249], [-0.00021885074], [-0.00024219981], [-0.00026805498], [-0.00029667333], [-0.0003283727], [-0.00036348621], [-0.00040240321], [-0.00044549775], [-0.00049328199], [-0.00054622418], [-0.0006049159], [-0.00067000516], [-0.00074214977], [-0.00082221342], [-0.00091102708], [-0.0010095721], [-0.0011189415], [-0.001240388], [-0.0013753112], [-0.0015251599], [-0.0016917406], [-0.0018769734], [-0.002082997], [-0.002312304], [-0.002567617], [-0.002852066], [-0.0031691813], [-0.0035229095], [-0.0039178249], [-0.0043590288], [-0.0048524109], [-0.0054046423], [-0.0060233986], [-0.0067174882], [-0.0074970359], [-0.0083738053], [-0.0093613798], [-0.010475542], [-0.011734826], [-0.013160918], [-0.014779351], [-0.016620401], [-0.018719984], [-0.021121133], [-0.02387546], [-0.027045321], [-0.030706353], [-0.034951035], [-0.039892688], [-0.045671262], [-0.052460305], [-0.060476005], [-0.069988817], [-0.081337929], [-0.094949134], [-0.11135608], [-0.13122356], [-0.1553694], [-0.18477619], [-0.22057611], [-0.26397121], [-0.31603116], [-0.37727079], [-0.44688791], [-0.52159768], [-0.59424984], [-0.65301991], [-0.68272841], [-0.66974676], [-0.60943151], [-0.5109266], [-0.39385378], [-0.27799445], [-0.17285234], [-0.06820178], [0.10653269], [0.94004846], [7.5707464], [0.45324975], [1.343531e-05], [2.5741786e-22], [0.0], [0.0], [nan], [0.0], [0.0], [0.0], [0.0], [-5.4744493e-07], [-3.6517773e-05], [-0.00049185986], [-0.0024790496], [-0.0069266963], [-0.01290035], [-0.017706955], [-0.019286577], [-0.017811533], [-0.014791551], [-0.011578862], [-0.0088391723], [-0.0067297164], [-0.0051806266], [-0.0040630149], [-0.0032569587], [-0.0026694285], [-0.0022335364], [-0.0019028794], [-0.0016457953], [-0.0014408214], [-0.0012734105], [-0.0011336652], [-0.0010147992], [-0.00091209967], [-0.0008222555], [-0.00074288255], [-0.00067223207], [-0.00060899521], [-0.00055215519], [-0.00050090556], [-0.00045459525], [-0.00041267974], [-0.00037469657], [-0.00034024689], [-0.00030898643], [-0.00028060589], [-0.00025483241], [-0.00023142349], [-0.00021015799], [-0.00019083724], [-0.00017328626], [-0.00015733932], [-0.00014285148], [-0.0001296907], [-0.00011773385], [-0.00010687105], [-9.7005905e-05], [-8.8043729e-05], [-7.9902842e-05], [-7.2510637e-05], [-6.5797038e-05], [-5.9702405e-05], [-5.4166474e-05], [-4.9140974e-05], [-4.4577861e-05], [-4.043676e-05], [-3.6677735e-05], [-3.326538e-05], [-3.0168527e-05], [-2.7357424e-05], [-2.4807101e-05], [-2.2494572e-05], [-2.039527e-05], [-1.8489789e-05], [-1.6762142e-05], [-1.5196113e-05], [-1.3772689e-05], [-1.248546e-05], [-1.1316428e-05], [-1.0255802e-05], [-9.2950149e-06], [-8.4232724e-06], [-7.6326696e-06], [-6.9155681e-06], [-6.2654576e-06], [-5.6777653e-06], [-5.1437846e-06], [-4.6610521e-06], [-4.2211923e-06], [-3.8246476e-06], [-3.4659088e-06], [-3.1387165e-06], [-2.8429879e-06], [-2.5761358e-06], [-2.3321682e-06], [-2.1121286e-06], [-1.9136553e-06], [-1.7326968e-06], [-1.5687411e-06], [-1.4213288e-06], [-1.2865582e-06], [-1.1657964e-06], [-1.0552154e-06], [-9.5625501e-07], [-8.6514666e-07]]\n"
     ]
    },
    {
     "data": {
      "image/png": "[encoded data removed]",
      "text/plain": [
       "<matplotlib.figure.Figure at 0x7fd2c8531a58>"
      ]
     },
     "metadata": {},
     "output_type": "display_data"
    }
   ],
   "source": [
    "# 3. A more complicated computational graph (5 points)\n",
    "def complicated_example_tf():\n",
    "    x = tf.placeholder(tf.float32)\n",
    "    fx = tf.sigmoid(-6 * tf.sigmoid(x + 5 * tf.pow(x, -2) + 3 * tf.pow(x, -3)) + 2 * tf.sigmoid(-x + 4 * tf.pow(x, -2)))\n",
    "    # tf.initialize_all_variables()\n",
    "    dfx = tf.gradients(fx, x)\n",
    "\n",
    "    with tf.Session() as sess:\n",
    "        k = -10\n",
    "        x_vals = []\n",
    "        dfx_vals = []\n",
    "        fx_vals = []\n",
    "        while k <= 10:\n",
    "            x_vals.append(k)\n",
    "            fx_vals.append(sess.run(fx, {x: k}))\n",
    "            dfx_vals.append(sess.run(dfx, {x: k}))\n",
    "            k += .1\n",
    "        print(fx_vals)\n",
    "        print(dfx_vals)\n",
    "        fig, axes = plt.subplots(1, 1)\n",
    "        axes.plot(x_vals, fx_vals, color='blue', ls='-', label='f(x)')\n",
    "        axes.plot(x_vals, dfx_vals, color='red', ls='-', label='df(x)')\n",
    "        axes.legend(loc='upper left')\n",
    "        plt.show()\n",
    "complicated_example_tf()\n"
   ]
  },
  {
   "cell_type": "code",
   "execution_count": 12,
   "metadata": {},
   "outputs": [
    {
     "data": {
      "text/html": [
       "<img src=\"https://github.com/furkoch/Neural-Network/blob/master/7.jpg?raw=true\"/>"
      ],
      "text/plain": [
       "<IPython.core.display.Image object>"
      ]
     },
     "execution_count": 12,
     "metadata": {},
     "output_type": "execute_result"
    }
   ],
   "source": [
    "#Derivation by hand.\n",
    "Image(url='https://github.com/furkoch/Neural-Network/blob/master/7.jpg?raw=true')"
   ]
  },
  {
   "cell_type": "code",
   "execution_count": 13,
   "metadata": {},
   "outputs": [
    {
     "name": "stdout",
     "output_type": "stream",
     "text": [
      "[0.8807579381482766, 0.8807537989518919, 0.8807492212139241, 0.8807441583461811, 0.8807385587909935, 0.8807323654877521, 0.8807255152815918, 0.8807179382678414, 0.8807095570651389, 0.8807002860092993, 0.8806900302591159, 0.8806786848042641, 0.8806661333643373, 0.8806522471667644, 0.8806368835899276, 0.8806198846561776, 0.8806010753576297, 0.8805802617955619, 0.8805572291119309, 0.8805317391888806, 0.8805035280891612, 0.8804723032069919, 0.8804377400950665, 0.8803994789290318, 0.8803571205657763, 0.880310222146156, 0.8802582921862467, 0.8802007850936796, 0.8801370950369592, 0.8800665490856455, 0.8799883995276927, 0.8799018152567617, 0.8798058721066457, 0.8796995419916016, 0.8795816806899096, 0.8794510140826985, 0.8793061226302776, 0.8791454238329091, 0.8789671523810315, 0.8787693376499447, 0.8785497781341391, 0.8783060123445873, 0.8780352856056683, 0.8777345120835203, 0.8774002312501741, 0.877028557832357, 0.8766151241034132, 0.876155013142582, 0.8756426813966145, 0.8750718685199897, 0.8744354920232333, 0.8737255237000574, 0.8729328441021512, 0.8720470704449603, 0.8710563522058817, 0.8699471272487014, 0.8687038294838133, 0.8673085367329265, 0.8657405444513934, 0.8639758470621302, 0.8619865035968085, 0.8597398577600764, 0.8571975739571078, 0.8543144396408192, 0.8510368697644796, 0.8473010302112808, 0.8430304727036566, 0.8381331427235855, 0.8324975835369205, 0.8259881136809178, 0.8184387050709184, 0.8096452430314013, 0.7993558295239743, 0.7872588435495069, 0.7729686942618355, 0.7560097796661926, 0.7358004407153261, 0.7116412629084419, 0.6827167995161083, 0.6481276323901998, 0.6069806761663146, 0.5585759459442835, 0.5027242600814917, 0.440184465204551, 0.3730902885313902, 0.30507208644662287, 0.2407352546618556, 0.18447149337324056, 0.13916893802612643, 0.10564829751821027, 0.08319274051439896, 0.07101488024152282, 0.0716097587924162, 0.11051987459364311, 0.46852204452854684, 0.8737001290806188, 0.8807970088334393, 0.8807970779778823, 0.8807970779778823, 0.8807970779778823, 0.8807970779778823, 0.017986209962091555, 0.017986209962091555, 0.017986209962091555, 0.017986209961359665, 0.017986203407847432, 0.017985248025519783, 0.017965964090595685, 0.01783576658134056, 0.017385812160244516, 0.01639720305757572, 0.014845502017728914, 0.01296629973652814, 0.011091547242946104, 0.009455141273268155, 0.008138804992348033, 0.007123035053011056, 0.00634972970897328, 0.005758360529984189, 0.0052992378234983685, 0.004935404529466419, 0.004640591528212401, 0.0043964870338769725, 0.004190392652949802, 0.004013469847088011, 0.003859504070895791, 0.0037240585624741577, 0.003603903232132048, 0.003496631853349789, 0.0034004061027671315, 0.003313784331971962, 0.0032356066910807124, 0.0031649176575468513, 0.0031009133876253848, 0.00304290555905043, 0.002990296196953055, 0.0029425598438128056, 0.002899230668475933, 0.0028598929233829336, 0.0028241736957595335, 0.0027917372521427744, 0.0027622805086854716, 0.002735529313401475, 0.0027112353280190015, 0.002689173364263329, 0.002669139073943695, 0.0026509469218997353, 0.0026344283907473605, 0.0026194303797912877, 0.0026058137696332315, 0.002593452130342314, 0.0025822305555140822, 0.002572044607749289, 0.00256279936344247, 0.0025544085465536745, 0.0025467937424222867, 0.002539883683788284, 0.0025336136020918665, 0.002527924637880653, 0.0025227633047998676, 0.0025180810022004734, 0.0025138335718902236, 0.0025099808949854666, 0.0025064865252067865, 0.0025033173553059397, 0.0025004433136207108, 0.0024978370880323515, 0.0024954738748513183, 0.0024933311503836228, 0.0024913884631349824, 0.0024896272447958298, 0.00248803063831818, 0.002486583341548141, 0.0024852714650160914, 0.002484082402612421, 0.0024830047139908227, 0.00248202801764494, 0.0024811428936986285, 0.0024803407955358283, 0.002479613969474287, 0.0024789553817584063, 0.0024783586522112585, 0.002477817993944792, 0.0024773281585809344, 0.0024768843864852513, 0.0024764823615593605, 0.0024761181701789393, 0.002475788263901234, 0.002475489425599542, 0.0024752187387130707, 0.002474973559328491, 0.0024747514908349355, 0.0024745503609176645, 0.002474368200676572, 0.0024742032256751647, 0.0024740538187431813, 0.0024739185143719603, 0.002473795984556414, 0.002473685025950535, 0.0024735845482156287, 0.002473493563451367]\n",
      "[4.9087216523842536e-05, 5.432544896033152e-05, 6.012484968318433e-05, 6.654584727801417e-05, 7.36554221224941e-05, 8.152782316205765e-05, 9.024536401630712e-05, 9.989930732774667e-05, 0.00011059084727533148, 0.00012243220131801901, 0.00013554782349159628, 0.00015007575300839316, 0.0001661691134774825, 0.00018399777983646632, 0.00020375023204731866, 0.00022563561681253016, 0.00024988604101700766, 0.00027675912334209447, 0.0003065408335521648, 0.0003395486523608084, 0.0003761350885822186, 0.0004166915945040172, 0.0004616529251306755, 0.0005115019921789813, 0.0005667752695313085, 0.0006280688133029928, 0.0006960449668216704, 0.0007714398287137176, 0.0008550715709809301, 0.0009478497034965499, 0.001050785391784781, 0.0011650029462949769, 0.0012917526136418654, 0.001432424813420292, 0.001588565978123801, 0.0017618961682336742, 0.0019543286494384505, 0.0021679916337593187, 0.0024052524004893865, 0.002668744025404472, 0.002961394956384717, 0.0032864616786238273, 0.0036475647104835685, 0.0040487281583402555, 0.004494423030702664, 0.004989614461964623, 0.005539812915474615, 0.006151129312025579, 0.006830333846830396, 0.007584917993006116, 0.008423158811859436, 0.009354184158091135, 0.010388036624627771, 0.011535733039944202, 0.012809314905620952, 0.014221883201289661, 0.015787608295741072, 0.01752170202758319, 0.0194403340091846, 0.021560467402445077, 0.023899580209507575, 0.026475225738656533, 0.02930436937690984, 0.03240241697989123, 0.03578182184170118, 0.03945012126071275, 0.04340720983508564, 0.04764160638573328, 0.05212542060329908, 0.05680768835715106, 0.061605751072191246, 0.06639446249491396, 0.07099331919151934, 0.07515230129902953, 0.07853853492317257, 0.08072816986864703, 0.08121135912703956, 0.07942271579754714, 0.07481357244841053, 0.06698158169911206, 0.05585983914158618, 0.041932553761061406, 0.026387182282486807, 0.011062547845094334, -0.0019234056204669111, -0.010820763167961628, -0.014877309549164825, -0.014546618798067106, -0.011086236995988593, -0.005748489475345043, 0.0011449332892220462, 0.011781985269395124, 0.03888927663792417, 0.19804297140249505, 3.1567462286922043, 1.058309371893459, 3.23204799090922e-05, 6.145876533189313e-22, 1.4344625029862278e-105, 0.0, 0.0, 0.0, 0.0, 0.0, -1.2877683536933452e-11, -5.949242035332543e-08, -5.10977397207421e-06, -6.884380300562782e-05, -0.0003519966785193299, -0.0010348001250954596, -0.0021656539001559433, -0.0036297914218463407, -0.005205683777528646, -0.006625170051118426, -0.007640771944696218, -0.008101519748242591, -0.007992327816889843, -0.007412390585119734, -0.006517747732671333, -0.005466514858958045, -0.00438650352057954, -0.003364978842359522, -0.0024520550097488734, -0.0016695871065459246, -0.0010205674570573726, -0.0004968398950992573, -8.462442461636976e-05, 0.00023189506054304795, 0.00046844017514503864, 0.0006395018715720235, 0.0007578352399891259, 0.0008343286277193196, 0.000878078069237771, 0.0008965616546326626, 0.0008958514376636144, 0.0008808280652428046, 0.0008553802914226357, 0.0008225815836086061, 0.0007848417016409618, 0.0007440341347760589, 0.0007016017077371818, 0.0006586431933369965, 0.0006159838075030259, 0.0005742322566050957, 0.0005338266968590281, 0.000495071628628501, 0.0004581674248589071, 0.0004232339013235127, 0.0003903290834696561, 0.0003594641105926877, 0.0003306150398515114, 0.0003037321659664122, 0.0002787473527092258, 0.0002555797751200073, 0.0002341403928458825, 0.00021433541170170676, 0.0001960689396429776, 0.00017924500244899743, 0.00016376905159153941, 0.00014954907042992802, 0.0001364963637463417, 0.00012452609868483121, 0.00011355765155350288, 0.00010351480402839302, 9.432582352760096e-05, 8.592345547883994e-05, 7.824484954178149e-05, 7.12314372970611e-05, 6.482877525731097e-05, 5.898636411633796e-05, 5.3657452793618224e-05, 4.879883393582533e-05, 4.4370636018740784e-05, 4.0336115976462735e-05, 3.666145531262654e-05, 3.331556187431428e-05, 3.026987885254614e-05, 2.749820208747859e-05, 2.4976506371720074e-05, 2.268278114615381e-05, 2.0596875749502115e-05, 1.8700354204630064e-05, 1.697635938939049e-05, 1.5409486340089404e-05, 1.3985664362472072e-05, 1.2692047575472053e-05, 1.1516913479469551e-05, 1.04495691226552e-05, 9.48026442908287e-06, 8.600112253414384e-06, 7.801014732662627e-06, 7.075595515641871e-06, 6.417137466395964e-06, 5.819525452949529e-06, 5.277193852130106e-06, 4.7850784202318475e-06, 4.338572198076164e-06, 3.933485140437595e-06, 3.566007177804965e-06, 3.232674438439413e-06, 2.9303383769339597e-06]\n"
     ]
    },
    {
     "data": {
      "image/png": "[encoded data removed]",
      "text/plain": [
       "<matplotlib.figure.Figure at 0x7fd2d815dc50>"
      ]
     },
     "metadata": {},
     "output_type": "display_data"
    }
   ],
   "source": [
    "def sigma_expression_py():\n",
    "    def sigmoid(x):\n",
    "        if x >= 0:\n",
    "            return 1 / (1 + math.exp(-x))\n",
    "        else:\n",
    "            return math.exp(x) / (1 + math.exp(x))\n",
    "    x = -10\n",
    "    x_vals = []\n",
    "    fx_vals = []\n",
    "    dfx_vals = []\n",
    "    while x <= 10:\n",
    "        x_vals.append(x)\n",
    "        tx =  -x + 4*math.pow(x,-2)\n",
    "        zx = x + 5 * math.pow(x, -2) + 3 * math.pow(x, -3)\n",
    "        yzt =  -6*sigmoid(zx) + 2*sigmoid(-tx) # y(zx,tx)\n",
    "        sx = -1 - 10*math.pow(x,-3)-9*math.pow(x,-4)\n",
    "        rx = -1 - 8 * math.pow(x, -3)\n",
    "        dfx_val = sigmoid(yzt)*(1-sigmoid(yzt))\n",
    "        dfx_val *= (-6 * sigmoid(zx) * (1 - sigmoid(zx)) * sx + 2 * sigmoid(tx) * (1 - sigmoid(tx)) * rx)\n",
    "        fx_val =  sigmoid(-6*sigmoid(zx)+2*sigmoid(tx))\n",
    "        fx_vals.append(fx_val)\n",
    "        dfx_vals.append(dfx_val)\n",
    "        x += .1\n",
    "    fig, axes = plt.subplots(1, 1)\n",
    "    print(fx_vals)\n",
    "    print(dfx_vals)\n",
    "    axes.plot(x_vals, fx_vals, color='blue', ls='-', label='f(x)')\n",
    "    axes.plot(x_vals, dfx_vals, color='red', ls='-', label='df(x)')\n",
    "    axes.legend(loc='upper left')\n",
    "    plt.show()\n",
    "\n",
    "sigma_expression_py()"
   ]
  },
  {
   "cell_type": "code",
   "execution_count": 14,
   "metadata": {
    "collapsed": true
   },
   "outputs": [],
   "source": [
    "#3.1 The main difference is tensorflow is run after Session.run, but in traditional python codes are run at runtime.\n",
    "# 3.2 The benefit is obvious as it saves us from working out the math,\n",
    "# writing the code, verifying the derivatives numerically.."
   ]
  },
  {
   "cell_type": "markdown",
   "metadata": {},
   "source": [
    "## Grading: 19.0 of 20.0 points. Well done!"
   ]
  },
  {
   "cell_type": "markdown",
   "metadata": {},
   "source": [
    "## Comments:\n",
    "- It looks like you are working with some sort of python IDE and do the programming there and then copy to code into a .ipynb file. This is ok. But please use markdown or images to answer all non coding questions.\n",
    "- I had the deduce 1.0 point since you did not answer the question about how TensorFlow is computing gradients. The answer is **automatic differentiation**. Also it is not the case that *tensorflow* is run after Session. TensorFlow is just a piece of software that you access via a python **API**. Your programming language is still *python*. But part of your answer is correct. The underlying paradigm of using TensorFlow is first defining your computation graph and then running it **inside** a session object. \n",
    "- Also the derivative that you computed by hand is not correct. You can see it if you compare the plots.\n",
    "- Nevertheless, well done! Keep up the good work. "
   ]
  }
 ],
 "metadata": {
  "kernelspec": {
   "display_name": "Python 3",
   "language": "python",
   "name": "python3"
  },
  "language_info": {
   "codemirror_mode": {
    "name": "ipython",
    "version": 3
   },
   "file_extension": ".py",
   "mimetype": "text/x-python",
   "name": "python",
   "nbconvert_exporter": "python",
   "pygments_lexer": "ipython3",
   "version": "3.6.2"
  }
 },
 "nbformat": 4,
 "nbformat_minor": 2
}
